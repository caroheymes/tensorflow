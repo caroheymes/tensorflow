{
  "nbformat": 4,
  "nbformat_minor": 0,
  "metadata": {
    "colab": {
      "name": "01-Manipulate_data_with_tensorflow.ipynb",
      "provenance": [],
      "collapsed_sections": [],
      "include_colab_link": true
    },
    "kernelspec": {
      "display_name": "Python 3",
      "language": "python",
      "name": "python3"
    },
    "language_info": {
      "codemirror_mode": {
        "name": "ipython",
        "version": 3
      },
      "file_extension": ".py",
      "mimetype": "text/x-python",
      "name": "python",
      "nbconvert_exporter": "python",
      "pygments_lexer": "ipython3",
      "version": "3.8.8"
    }
  },
  "cells": [
    {
      "cell_type": "markdown",
      "metadata": {
        "id": "view-in-github",
        "colab_type": "text"
      },
      "source": [
        "<a href=\"https://colab.research.google.com/github/caroheymes/tensorflow/blob/main/01_Manipulate_data_with_tensorflow.ipynb\" target=\"_parent\"><img src=\"https://colab.research.google.com/assets/colab-badge.svg\" alt=\"Open In Colab\"/></a>"
      ]
    },
    {
      "cell_type": "markdown",
      "metadata": {
        "id": "ZNW5K_m7t8Tu"
      },
      "source": [
        "# Manipulate data with tensorflow\n",
        "\n",
        "In this exercise you will practice manipulating tensors and forming tensor datasets with tensorflow.\n",
        "We are taking advantage of this moment to let you only manipulate data as we will be focusing much more on building models in the following days!"
      ]
    },
    {
      "cell_type": "code",
      "metadata": {
        "colab": {
          "base_uri": "https://localhost:8080/"
        },
        "id": "scH5vLxifyd0",
        "outputId": "8d5f4d2b-af56-4a2e-e98e-c608dd6c3b57"
      },
      "source": [
        "import os\n",
        "from google.colab import drive\n",
        "drive.mount('/content/drive', force_remount=True)"
      ],
      "execution_count": 2,
      "outputs": [
        {
          "output_type": "stream",
          "name": "stdout",
          "text": [
            "Mounted at /content/drive\n"
          ]
        }
      ]
    },
    {
      "cell_type": "code",
      "metadata": {
        "id": "Ds_0PIzNgkF-"
      },
      "source": [
        "os.chdir('/content/drive/MyDrive/manipulate_data_with_tf')"
      ],
      "execution_count": 3,
      "outputs": []
    },
    {
      "cell_type": "code",
      "metadata": {
        "id": "Awl5S3siIE2I"
      },
      "source": [
        "import tensorflow as tf"
      ],
      "execution_count": 5,
      "outputs": []
    },
    {
      "cell_type": "markdown",
      "metadata": {
        "id": "be1UHQRtufib"
      },
      "source": [
        "## Practice tensor operations\n",
        "\n",
        "* Create a constant tensor named `tensor1` containing the values `[0,1,2,3,4,5,6,7]` and a variable tensor named `tensor2` containing the values `[0,1,2,0,1,2]`"
      ]
    },
    {
      "cell_type": "code",
      "metadata": {
        "colab": {
          "base_uri": "https://localhost:8080/"
        },
        "id": "TnmEw6ARg-Qt",
        "outputId": "d2b21ee6-b49a-4c9e-e5e4-48b21fb0c497"
      },
      "source": [
        "tensor1 = tf.constant([0,1,2,3,4,5,6,7])\n",
        "tensor2 = tf.Variable([0,1,2,0,1,2])\n",
        "print(tensor1,'\\n', tensor2)"
      ],
      "execution_count": 144,
      "outputs": [
        {
          "output_type": "stream",
          "name": "stdout",
          "text": [
            "tf.Tensor([0 1 2 3 4 5 6 7], shape=(8,), dtype=int32) \n",
            " <tf.Variable 'Variable:0' shape=(6,) dtype=int32, numpy=array([0, 1, 2, 0, 1, 2], dtype=int32)>\n"
          ]
        }
      ]
    },
    {
      "cell_type": "markdown",
      "metadata": {
        "id": "8kZZuF9FIRPp"
      },
      "source": [
        "* Reshape `tensor1` so it has 2 columns and 4 rows, and `tensor2` so it has 2 rows and 3 columns.\n",
        "Has this operation changed the nature of `tensor2`? How could you change it back to its former nature?"
      ]
    },
    {
      "cell_type": "code",
      "metadata": {
        "id": "IS_WqjF6helD"
      },
      "source": [
        "tensor1 = tf.reshape(tensor1, [4,2])"
      ],
      "execution_count": 63,
      "outputs": []
    },
    {
      "cell_type": "code",
      "metadata": {
        "colab": {
          "base_uri": "https://localhost:8080/"
        },
        "id": "dn9uBG-UipLz",
        "outputId": "75aa9b52-be7f-45b9-fffc-25aeb6ac12da"
      },
      "source": [
        "tensor1"
      ],
      "execution_count": 64,
      "outputs": [
        {
          "output_type": "execute_result",
          "data": {
            "text/plain": [
              "<tf.Tensor: shape=(4, 2), dtype=int32, numpy=\n",
              "array([[0, 1],\n",
              "       [2, 3],\n",
              "       [4, 5],\n",
              "       [6, 7]], dtype=int32)>"
            ]
          },
          "metadata": {},
          "execution_count": 64
        }
      ]
    },
    {
      "cell_type": "code",
      "metadata": {
        "id": "QYxc2pv-ht0j"
      },
      "source": [
        "tensor2 = tf.reshape(tensor2, [2,3])"
      ],
      "execution_count": 145,
      "outputs": []
    },
    {
      "cell_type": "code",
      "metadata": {
        "id": "LM5T5YDFKPKy"
      },
      "source": [
        "tensor2 = tf.Variable(tensor2)"
      ],
      "execution_count": 147,
      "outputs": []
    },
    {
      "cell_type": "code",
      "metadata": {
        "id": "XRCjG3E8E9Dq"
      },
      "source": [
        "tensor2 = tensor2.assign_sub(tensor3)"
      ],
      "execution_count": 149,
      "outputs": []
    },
    {
      "cell_type": "code",
      "metadata": {
        "colab": {
          "base_uri": "https://localhost:8080/"
        },
        "id": "i0WXfCD7FMm5",
        "outputId": "f240b2e4-6846-4903-e83c-5cc3f600f9ed"
      },
      "source": [
        "tensor2"
      ],
      "execution_count": 150,
      "outputs": [
        {
          "output_type": "execute_result",
          "data": {
            "text/plain": [
              "<tf.Variable 'UnreadVariable' shape=(2, 3) dtype=int32, numpy=\n",
              "array([[-1,  0,  1],\n",
              "       [-1,  0,  1]], dtype=int32)>"
            ]
          },
          "metadata": {},
          "execution_count": 150
        }
      ]
    },
    {
      "cell_type": "markdown",
      "metadata": {
        "id": "A9t1o_2FI8gM"
      },
      "source": [
        "* Use a tensorflow function to create `tensor3` with the same shape as `tensor2` but filled with 1"
      ]
    },
    {
      "cell_type": "code",
      "metadata": {
        "colab": {
          "base_uri": "https://localhost:8080/"
        },
        "id": "LD5IKEDGiOm_",
        "outputId": "b989b6cb-e533-4760-b1ad-5bc63cb709c1"
      },
      "source": [
        "import numpy as np\n",
        "tensor3 = tf.Variable(np.ones([2,3]).astype('int32'))\n",
        "tensor3"
      ],
      "execution_count": 139,
      "outputs": [
        {
          "output_type": "execute_result",
          "data": {
            "text/plain": [
              "<tf.Variable 'Variable:0' shape=(2, 3) dtype=int32, numpy=\n",
              "array([[1, 1, 1],\n",
              "       [1, 1, 1]], dtype=int32)>"
            ]
          },
          "metadata": {},
          "execution_count": 139
        }
      ]
    },
    {
      "cell_type": "markdown",
      "metadata": {
        "id": "D-cHLAq6JYB8"
      },
      "source": [
        "* Modify the value of `tensor2` by substracting the values in `tensor3`, use a method so that it is an in place operation. Why would not you be able to do that with `tensor1`?"
      ]
    },
    {
      "cell_type": "code",
      "metadata": {
        "colab": {
          "base_uri": "https://localhost:8080/"
        },
        "id": "DFdAhB-NqLfC",
        "outputId": "29164f2e-896b-4c95-c32d-9b533884a918"
      },
      "source": [
        "variable_tensor = tf.Variable([[1,2],[3,4]])\n",
        "variable_tensor.assign_sub([[2,2],[2,2]])"
      ],
      "execution_count": 143,
      "outputs": [
        {
          "output_type": "execute_result",
          "data": {
            "text/plain": [
              "<tf.Variable 'UnreadVariable' shape=(2, 2) dtype=int32, numpy=\n",
              "array([[-1,  0],\n",
              "       [ 1,  2]], dtype=int32)>"
            ]
          },
          "metadata": {},
          "execution_count": 143
        }
      ]
    },
    {
      "cell_type": "markdown",
      "metadata": {
        "id": "f0CzXqjyKqpF"
      },
      "source": [
        "* Can you multiply `tensor1` and `tensor2` pointwise? How about with a matrix multiplication? Display the result of the possible operations."
      ]
    },
    {
      "cell_type": "code",
      "metadata": {
        "colab": {
          "base_uri": "https://localhost:8080/"
        },
        "id": "eEoqnix5j9o2",
        "outputId": "59112716-5ffd-418e-bdd8-c931a92af263"
      },
      "source": [
        "tensor1.shape"
      ],
      "execution_count": 28,
      "outputs": [
        {
          "output_type": "execute_result",
          "data": {
            "text/plain": [
              "TensorShape([4, 2])"
            ]
          },
          "metadata": {},
          "execution_count": 28
        }
      ]
    },
    {
      "cell_type": "code",
      "metadata": {
        "colab": {
          "base_uri": "https://localhost:8080/"
        },
        "id": "Jgzj_E3Yj5vF",
        "outputId": "9fa15370-74ec-4e29-864e-3b84d64083be"
      },
      "source": [
        "tensor2.shape"
      ],
      "execution_count": 31,
      "outputs": [
        {
          "output_type": "execute_result",
          "data": {
            "text/plain": [
              "TensorShape([2, 3])"
            ]
          },
          "metadata": {},
          "execution_count": 31
        }
      ]
    },
    {
      "cell_type": "code",
      "metadata": {
        "colab": {
          "base_uri": "https://localhost:8080/"
        },
        "id": "wBDmBeOIKlw1",
        "outputId": "a91b09a3-3bd1-4416-c5b0-73778d011b27"
      },
      "source": [
        "# Pointwise multiplication by a tensor of same shape\n",
        "# print(tensor1 * tensor2)\n",
        "# #impossable car shapes différentes\n",
        "#Produit matriciel possible (broadcasting)\n",
        "tf.matmul(tensor1, tensor2)"
      ],
      "execution_count": 36,
      "outputs": [
        {
          "output_type": "execute_result",
          "data": {
            "text/plain": [
              "<tf.Tensor: shape=(4, 3), dtype=int32, numpy=\n",
              "array([[ 0,  1,  2],\n",
              "       [ 0,  5, 10],\n",
              "       [ 0,  9, 18],\n",
              "       [ 0, 13, 26]], dtype=int32)>"
            ]
          },
          "metadata": {},
          "execution_count": 36
        }
      ]
    },
    {
      "cell_type": "markdown",
      "metadata": {
        "id": "l_Flhy7uLS7w"
      },
      "source": [
        "## Tabular data\n",
        "\n",
        "This part of the exercise will let you deal with tabular data in order to make batch datasets ready to be fed to deep learning models.\n",
        "\n",
        "* Using the `sklearn.datasets` module, load the mnist dataset thanks to the `load_digits` function."
      ]
    },
    {
      "cell_type": "markdown",
      "metadata": {
        "id": "EO54ZELkMDnI"
      },
      "source": [
        "* This function gives you a Data Bunch object, which works basically like a dictionnary. Create an object data containing the value of the `data` key and an object target containing the value of the `target` key."
      ]
    },
    {
      "cell_type": "code",
      "metadata": {
        "id": "xqjkeVCukgy9"
      },
      "source": [
        "from sklearn.datasets import load_digits\n",
        "digits = load_digits()\n",
        "data = digits.data\n",
        "target = digits.target"
      ],
      "execution_count": 94,
      "outputs": []
    },
    {
      "cell_type": "markdown",
      "metadata": {
        "id": "RoyvPr2sNGxt"
      },
      "source": [
        "* What is the shape of `data` and `target`? Can you understand what these objects represent using the `DESCR` key of the Data Bunch?"
      ]
    },
    {
      "cell_type": "code",
      "metadata": {
        "id": "e3VytM5ALuCo",
        "colab": {
          "base_uri": "https://localhost:8080/"
        },
        "outputId": "dc091e45-83e8-4394-9e20-27ec5368278d"
      },
      "source": [
        "data.shape"
      ],
      "execution_count": 93,
      "outputs": [
        {
          "output_type": "execute_result",
          "data": {
            "text/plain": [
              "(1797, 64)"
            ]
          },
          "metadata": {},
          "execution_count": 93
        }
      ]
    },
    {
      "cell_type": "code",
      "metadata": {
        "colab": {
          "base_uri": "https://localhost:8080/"
        },
        "id": "SKK8rqNFmdP9",
        "outputId": "a7e6641b-e6ce-42c6-eabd-27e60e6d81c5"
      },
      "source": [
        "target.shape"
      ],
      "execution_count": 41,
      "outputs": [
        {
          "output_type": "execute_result",
          "data": {
            "text/plain": [
              "(1797,)"
            ]
          },
          "metadata": {},
          "execution_count": 41
        }
      ]
    },
    {
      "cell_type": "code",
      "metadata": {
        "colab": {
          "base_uri": "https://localhost:8080/"
        },
        "id": "vdYSIErjmiDl",
        "outputId": "7495f49c-406c-4df2-a252-44efbd7a88aa"
      },
      "source": [
        "print(digits.DESCR)"
      ],
      "execution_count": 44,
      "outputs": [
        {
          "output_type": "stream",
          "name": "stdout",
          "text": [
            ".. _digits_dataset:\n",
            "\n",
            "Optical recognition of handwritten digits dataset\n",
            "--------------------------------------------------\n",
            "\n",
            "**Data Set Characteristics:**\n",
            "\n",
            "    :Number of Instances: 5620\n",
            "    :Number of Attributes: 64\n",
            "    :Attribute Information: 8x8 image of integer pixels in the range 0..16.\n",
            "    :Missing Attribute Values: None\n",
            "    :Creator: E. Alpaydin (alpaydin '@' boun.edu.tr)\n",
            "    :Date: July; 1998\n",
            "\n",
            "This is a copy of the test set of the UCI ML hand-written digits datasets\n",
            "https://archive.ics.uci.edu/ml/datasets/Optical+Recognition+of+Handwritten+Digits\n",
            "\n",
            "The data set contains images of hand-written digits: 10 classes where\n",
            "each class refers to a digit.\n",
            "\n",
            "Preprocessing programs made available by NIST were used to extract\n",
            "normalized bitmaps of handwritten digits from a preprinted form. From a\n",
            "total of 43 people, 30 contributed to the training set and different 13\n",
            "to the test set. 32x32 bitmaps are divided into nonoverlapping blocks of\n",
            "4x4 and the number of on pixels are counted in each block. This generates\n",
            "an input matrix of 8x8 where each element is an integer in the range\n",
            "0..16. This reduces dimensionality and gives invariance to small\n",
            "distortions.\n",
            "\n",
            "For info on NIST preprocessing routines, see M. D. Garris, J. L. Blue, G.\n",
            "T. Candela, D. L. Dimmick, J. Geist, P. J. Grother, S. A. Janet, and C.\n",
            "L. Wilson, NIST Form-Based Handprint Recognition System, NISTIR 5469,\n",
            "1994.\n",
            "\n",
            ".. topic:: References\n",
            "\n",
            "  - C. Kaynak (1995) Methods of Combining Multiple Classifiers and Their\n",
            "    Applications to Handwritten Digit Recognition, MSc Thesis, Institute of\n",
            "    Graduate Studies in Science and Engineering, Bogazici University.\n",
            "  - E. Alpaydin, C. Kaynak (1998) Cascading Classifiers, Kybernetika.\n",
            "  - Ken Tang and Ponnuthurai N. Suganthan and Xi Yao and A. Kai Qin.\n",
            "    Linear dimensionalityreduction using relevance weighted LDA. School of\n",
            "    Electrical and Electronic Engineering Nanyang Technological University.\n",
            "    2005.\n",
            "  - Claudio Gentile. A New Approximate Maximal Margin Classification\n",
            "    Algorithm. NIPS. 2000.\n"
          ]
        }
      ]
    },
    {
      "cell_type": "code",
      "metadata": {
        "colab": {
          "base_uri": "https://localhost:8080/"
        },
        "id": "oE8RzXi6MBOk",
        "outputId": "797631be-0376-4c2e-8cc1-0c0f3277a782"
      },
      "source": [
        ""
      ],
      "execution_count": null,
      "outputs": [
        {
          "name": "stdout",
          "output_type": "stream",
          "text": [
            "data: [[ 0.  0.  5. ...  0.  0.  0.]\n",
            " [ 0.  0.  0. ... 10.  0.  0.]\n",
            " [ 0.  0.  0. ... 16.  9.  0.]\n",
            " ...\n",
            " [ 0.  0.  1. ...  6.  0.  0.]\n",
            " [ 0.  0.  2. ... 12.  0.  0.]\n",
            " [ 0.  0. 10. ... 12.  1.  0.]]\n",
            "target: [0 1 2 ... 8 9 8]\n"
          ]
        }
      ]
    },
    {
      "cell_type": "markdown",
      "metadata": {
        "id": "LgrbbCLSORpb"
      },
      "source": [
        "* Can you visualize the first image in data ?"
      ]
    },
    {
      "cell_type": "code",
      "metadata": {
        "colab": {
          "base_uri": "https://localhost:8080/",
          "height": 211
        },
        "id": "Ts0WIXUGniL8",
        "outputId": "11f44e1b-b31b-4ba4-f7aa-c9ac0f645766"
      },
      "source": [
        "import matplotlib.pyplot as plt\n",
        "\n",
        "\n",
        "\n",
        "# Display the first digit\n",
        "plt.figure(1, figsize=(3, 3))\n",
        "plt.imshow(digits.images[0],cmap=plt.cm.gray_r)\n",
        "plt.show()"
      ],
      "execution_count": 49,
      "outputs": [
        {
          "output_type": "display_data",
          "data": {
            "image/png": "[encoded data removed]",
            "text/plain": [
              "<Figure size 216x216 with 1 Axes>"
            ]
          },
          "metadata": {
            "needs_background": "light"
          }
        }
      ]
    },
    {
      "cell_type": "markdown",
      "metadata": {
        "id": "x3TwGhRPacK0"
      },
      "source": [
        "* The pixel values from those images is encoded in integers between 0 and 255, it is always better to feed your deep learning models with reasonnably scaled data to avoid the network not being able to learn. To do this we'll divide the value in each pixel by 255. Do this."
      ]
    },
    {
      "cell_type": "code",
      "metadata": {
        "id": "2Inf0zR8oIv0"
      },
      "source": [
        "data = data/255"
      ],
      "execution_count": 169,
      "outputs": []
    },
    {
      "cell_type": "code",
      "metadata": {
        "id": "zazDEYPiaak8",
        "colab": {
          "base_uri": "https://localhost:8080/"
        },
        "outputId": "4fe40fc7-56f2-4ce6-a6ac-f05c33f2d123"
      },
      "source": [
        "from collections import Counter\n",
        "Counter(target)"
      ],
      "execution_count": 170,
      "outputs": [
        {
          "output_type": "execute_result",
          "data": {
            "text/plain": [
              "Counter({0: 178,\n",
              "         1: 182,\n",
              "         2: 177,\n",
              "         3: 183,\n",
              "         4: 181,\n",
              "         5: 182,\n",
              "         6: 181,\n",
              "         7: 179,\n",
              "         8: 174,\n",
              "         9: 180})"
            ]
          },
          "metadata": {},
          "execution_count": 170
        }
      ]
    },
    {
      "cell_type": "markdown",
      "metadata": {
        "id": "tPVqElsAXHTt"
      },
      "source": [
        "### Technique 1: Split the data with sklearn\n",
        "\n",
        "Most of the time when you will be dealing with data you want to feed to a deap learning model, you will have a pandas DataFrame or numpy array at some points that contains some representation of your data and the associated values of the target variable. In those cases, it's easier to just split the data in a train and validation set using sklearn. (Remember that for very large datasets or for training and evaluating deep learning models we most of the time use the three way hold out method, where on set serves as the training set, one as the validation set to control for overfitting, and the last one is the test set against which we will evaluate the model).\n",
        "\n",
        "* Split the data and target into three different parts, one containing the train set (60%), another with the validation set (20%), and a third with the test set (20%), using sklearn."
      ]
    },
    {
      "cell_type": "code",
      "metadata": {
        "id": "wmVavTzCot3S"
      },
      "source": [
        "from sklearn.model_selection import train_test_split\n",
        "\n",
        "\n",
        "# train is now 75% of the entire data set\n",
        "# the _junk suffix means that we drop that variable completely\n",
        "X_train, X_test, Y_train, Y_test = train_test_split(data, target, test_size=0.4)\n",
        "\n",
        "X_val, X_test, Y_val, Y_test = train_test_split(X_test, Y_test, test_size = 0.5)\n",
        "\n"
      ],
      "execution_count": 130,
      "outputs": []
    },
    {
      "cell_type": "code",
      "metadata": {
        "colab": {
          "base_uri": "https://localhost:8080/"
        },
        "id": "o4bjBVi03Ory",
        "outputId": "adca8a01-b37c-4b50-d1b6-cd7530aa77c3"
      },
      "source": [
        "X_val.shape"
      ],
      "execution_count": 127,
      "outputs": [
        {
          "output_type": "execute_result",
          "data": {
            "text/plain": [
              "(359, 64)"
            ]
          },
          "metadata": {},
          "execution_count": 127
        }
      ]
    },
    {
      "cell_type": "markdown",
      "metadata": {
        "id": "FzugIQTQZOUn"
      },
      "source": [
        "* Form three tensor slice datasets using the training validation and test data."
      ]
    },
    {
      "cell_type": "code",
      "metadata": {
        "id": "W96B4A9Mo3yA"
      },
      "source": [
        "train = tf.data.Dataset.from_tensor_slices((X_train,Y_train))\n",
        "test = tf.data.Dataset.from_tensor_slices((X_test,Y_test))\n",
        "val =  tf.data.Dataset.from_tensor_slices((X_val,Y_val))"
      ],
      "execution_count": 155,
      "outputs": []
    },
    {
      "cell_type": "code",
      "metadata": {
        "colab": {
          "base_uri": "https://localhost:8080/"
        },
        "id": "ZHWr5HfCZKLb",
        "outputId": "d4d79928-4642-4e2d-a07f-2725ef49844d"
      },
      "source": [
        "train = tf.data.Dataset.from_tensor_slices((X_train,y_train))\n",
        "test = tf.data.Dataset.from_tensor_slices((X_test,y_test))\n",
        "val = tf.data.Dataset.from_tensor_slices((x_val,y_val))"
      ],
      "execution_count": null,
      "outputs": [
        {
          "name": "stdout",
          "output_type": "stream",
          "text": [
            "train: <TensorSliceDataset shapes: ((64,), ()), types: (tf.float64, tf.int64)>\n",
            "val: <TensorSliceDataset shapes: ((64,), ()), types: (tf.float64, tf.int64)>\n",
            "test: <TensorSliceDataset shapes: ((64,), ()), types: (tf.float64, tf.int64)>\n"
          ]
        }
      ]
    },
    {
      "cell_type": "markdown",
      "metadata": {
        "id": "7ft2lVP5ZraP"
      },
      "source": [
        "* Shuffle these tensor slice datasets and arrange them in batches of 8 observations, then display one batch from each of these batch datasets."
      ]
    },
    {
      "cell_type": "code",
      "metadata": {
        "id": "uUg_TQ6p4d0k"
      },
      "source": [
        "train_shuffle = train.shuffle(buffer_size=len(X_train)) \n",
        "test_shuffle = test.shuffle(buffer_size=len(X_test))\n",
        "val_shuffle = val.shuffle(buffer_size=len(X_val))"
      ],
      "execution_count": 133,
      "outputs": []
    },
    {
      "cell_type": "code",
      "metadata": {
        "colab": {
          "base_uri": "https://localhost:8080/"
        },
        "id": "uEaYmiL15ILi",
        "outputId": "96d0daff-9e03-4856-8d7d-dc0722115de2"
      },
      "source": [
        "train_batch = train_shuffle.batch(batch_size=8)\n",
        "test_batch = test_shuffle.batch(batch_size=8)\n",
        "\n",
        "# When extracting data from these objects we now get batches!\n",
        "for x, y in train_batch.take(1): \n",
        "  print('x:',x)\n",
        "  print('y:',y)\n"
      ],
      "execution_count": 134,
      "outputs": [
        {
          "output_type": "stream",
          "name": "stdout",
          "text": [
            "x: tf.Tensor(\n",
            "[[ 0.  0.  0.  8. 14. 15.  7.  0.  0.  0.  4. 16. 12. 15. 14.  0.  0.  0.\n",
            "   1.  1.  0. 11. 12.  0.  0.  0.  2.  4.  6. 14. 15.  0.  0.  4. 16. 16.\n",
            "  16. 16.  5.  0.  0.  8. 12.  7. 14. 12.  0.  0.  0.  0.  0.  4. 16.  3.\n",
            "   0.  0.  0.  0.  0. 11.  7.  0.  0.  0.]\n",
            " [ 0.  0.  9. 14. 16. 13.  2.  0.  0.  0. 13.  8.  2.  6.  4.  0.  0.  0.\n",
            "  16.  2.  9.  8.  0.  0.  0.  3. 15. 15. 11. 14.  4.  0.  0.  5. 16.  6.\n",
            "   0. 12.  2.  0.  0.  5.  7.  0.  3. 13.  0.  0.  0.  0.  5.  7. 13.  6.\n",
            "   0.  0.  0.  0. 10. 16.  9.  0.  0.  0.]\n",
            " [ 0.  0.  8. 16. 16.  1.  0.  0.  0.  1. 12. 10. 16.  5.  0.  0.  0.  0.\n",
            "   0.  3. 16.  6.  0.  0.  0.  0.  0.  6. 16.  2.  0.  0.  0.  4. 12. 14.\n",
            "  16. 12.  5.  0.  0. 12. 16. 16. 14. 12.  5.  0.  0.  0.  6. 13.  0.  0.\n",
            "   0.  0.  0.  0. 11.  8.  0.  0.  0.  0.]\n",
            " [ 0.  0. 11. 16. 16. 16. 16.  2.  0.  5. 16. 16. 14. 10.  4.  0.  0.  5.\n",
            "  16.  5.  0.  0.  0.  0.  0.  1. 15. 10.  0.  0.  0.  0.  0.  0.  6. 16.\n",
            "   8.  0.  0.  0.  0.  0.  0.  9. 14.  0.  0.  0.  0.  0.  0.  5. 16.  3.\n",
            "   0.  0.  0.  0. 10. 16. 13.  1.  0.  0.]\n",
            " [ 0.  0.  2. 10. 16. 13.  0.  0.  0.  3. 16.  8.  2. 16.  1.  0.  0.  8.\n",
            "  13.  0.  2. 16.  6.  0.  0.  6. 16. 12. 16. 16.  7.  0.  0.  0.  2.  4.\n",
            "   8. 12.  1.  0.  0.  0.  0.  1. 15.  3.  0.  0.  0.  0.  0.  9. 10.  0.\n",
            "   0.  0.  0.  0.  1. 16.  3.  0.  0.  0.]\n",
            " [ 0.  0.  4.  9. 13.  5.  0.  0.  0.  1. 16. 16. 12. 11.  0.  0.  0.  0.\n",
            "  11.  8.  5. 16.  0.  0.  0.  0.  7. 10. 13. 10.  0.  0.  0.  0.  4. 16.\n",
            "  13.  0.  0.  0.  0.  0. 13. 15. 12.  0.  0.  0.  0.  0. 11.  9. 14.  5.\n",
            "   0.  0.  0.  0.  0. 10. 16.  8.  0.  0.]\n",
            " [ 0.  0. 15. 15. 10.  2.  0.  0.  0.  0. 16.  5.  8. 11.  0.  0.  0.  0.\n",
            "   9. 12.  1. 14.  4.  0.  0.  0.  6. 16. 16. 15.  2.  0.  0.  0.  0.  4.\n",
            "  11.  1.  0.  0.  0.  0.  0.  0.  7.  7.  0.  0.  0.  0.  0.  0.  2. 11.\n",
            "   0.  0.  0.  0. 10. 12. 13. 11.  0.  0.]\n",
            " [ 0.  0.  7. 13. 10.  1.  0.  0.  0.  1. 15.  3.  9. 10.  0.  0.  0.  3.\n",
            "  16.  4. 13. 11.  0.  0.  0.  0.  6. 12. 12. 16.  0.  0.  0.  0.  0.  0.\n",
            "   0. 12.  5.  0.  0.  0.  0.  0.  0.  5. 11.  0.  0.  1. 11.  2.  0.  7.\n",
            "  11.  0.  0.  0.  7. 13. 16. 15.  4.  0.]], shape=(8, 64), dtype=float64)\n",
            "y: tf.Tensor([7 5 7 5 9 8 9 9], shape=(8,), dtype=int64)\n"
          ]
        }
      ]
    },
    {
      "cell_type": "markdown",
      "metadata": {
        "id": "AIG8SZ_fbAM4"
      },
      "source": [
        "We are now ready to start training deep learning models!"
      ]
    },
    {
      "cell_type": "markdown",
      "metadata": {
        "id": "fhAb3OHwbFHh"
      },
      "source": [
        "## Technique 2: split using tensorflow\n",
        "\n",
        "This technique is not so recommended because tensorflow is not able to work with datasets in the same way that sklearn does, it is not as practical to split the data in a random way, but we will show you how it can be done, as sometimes you will strictly be working with tensorflow objects.\n",
        "\n",
        "* Create a tensor slice dataset object using `data`and `target`."
      ]
    },
    {
      "cell_type": "code",
      "metadata": {
        "colab": {
          "base_uri": "https://localhost:8080/"
        },
        "id": "LHxKi-0P7lmD",
        "outputId": "8ef09556-5982-4239-d2e1-db9a1271c918"
      },
      "source": [
        "full_ds = tf.data.Dataset.from_tensor_slices((data,target))\n",
        "print(\"full_ds:\", full_ds)"
      ],
      "execution_count": 171,
      "outputs": [
        {
          "output_type": "stream",
          "name": "stdout",
          "text": [
            "full_ds: <TensorSliceDataset shapes: ((64,), ()), types: (tf.float64, tf.int64)>\n"
          ]
        }
      ]
    },
    {
      "cell_type": "markdown",
      "metadata": {
        "id": "iLDSGNPIbvMn"
      },
      "source": [
        "* Using the commands take and skip, separate the tensor slice dataset into a train object containing 60% of the data, a val object (20%) and a test object (20%)."
      ]
    },
    {
      "cell_type": "code",
      "metadata": {
        "colab": {
          "base_uri": "https://localhost:8080/"
        },
        "id": "NvTEUACTbuSb",
        "outputId": "ece27838-f4f5-49ae-f8a3-7f435587aa77"
      },
      "source": [
        "n_train = int(0.6*len(data))\n",
        "print('n_train : ', n_train)\n",
        "n_val = int(0.2*len(data))\n",
        "print('n_val : ', n_val)\n",
        "n_test = len(data) - n_train - n_val\n",
        "print('n_test : ', n_test)\n",
        "\n",
        "train = full_ds.take(n_train)\n",
        "print('train : ', train, len(train))\n",
        "reste = full_ds.skip(n_train)\n",
        "val = reste.take(n_val)\n",
        "print('val : ', val, len(val))\n",
        "test = reste.take(n_test)\n",
        "print('test : ', test, len(test))\n"
      ],
      "execution_count": 172,
      "outputs": [
        {
          "output_type": "stream",
          "name": "stdout",
          "text": [
            "n_train :  1078\n",
            "n_val :  359\n",
            "n_test :  360\n",
            "train :  <TakeDataset shapes: ((64,), ()), types: (tf.float64, tf.int64)> 1078\n",
            "val :  <TakeDataset shapes: ((64,), ()), types: (tf.float64, tf.int64)> 359\n",
            "test :  <TakeDataset shapes: ((64,), ()), types: (tf.float64, tf.int64)> 360\n"
          ]
        }
      ]
    },
    {
      "cell_type": "markdown",
      "metadata": {
        "id": "TTdWCH3ic7Dm"
      },
      "source": [
        "* Use methods shuffle and batch in order to create batch datasets with batches of 8 observations for train, val, and test, and show one batch from each of these objects."
      ]
    },
    {
      "cell_type": "code",
      "metadata": {
        "colab": {
          "base_uri": "https://localhost:8080/"
        },
        "id": "mc2L2kHXOYRc",
        "outputId": "118cfdb1-6f25-4d96-81ed-2b835366038a"
      },
      "source": [
        "train_batch = train.shuffle(n_train).batch(8)\n",
        "val_batch = val.shuffle(n_val).batch(8)\n",
        "test_batch = test.shuffle(n_test).batch(8)\n",
        "\n",
        "print(\"train batch:\", next(iter(train_batch)))\n",
        "print(\"val batch:\", next(iter(val_batch)))\n",
        "print(\"test batch:\", next(iter(test_batch)))"
      ],
      "execution_count": 173,
      "outputs": [
        {
          "output_type": "stream",
          "name": "stdout",
          "text": [
            "train batch: (<tf.Tensor: shape=(8, 64), dtype=float64, numpy=\n",
            "array([[0.        , 0.00784314, 0.0627451 , 0.04705882, 0.04705882,\n",
            "        0.05490196, 0.02745098, 0.        , 0.        , 0.01176471,\n",
            "        0.0627451 , 0.03529412, 0.03137255, 0.03137255, 0.01568627,\n",
            "        0.        , 0.        , 0.00784314, 0.0627451 , 0.03921569,\n",
            "        0.01568627, 0.        , 0.        , 0.        , 0.        ,\n",
            "        0.01568627, 0.0627451 , 0.05098039, 0.0627451 , 0.01568627,\n",
            "        0.        , 0.        , 0.        , 0.        , 0.01176471,\n",
            "        0.        , 0.04705882, 0.03921569, 0.        , 0.        ,\n",
            "        0.        , 0.02352941, 0.01176471, 0.        , 0.03529412,\n",
            "        0.04313725, 0.        , 0.        , 0.        , 0.04313725,\n",
            "        0.04313725, 0.03529412, 0.0627451 , 0.01176471, 0.        ,\n",
            "        0.        , 0.        , 0.01176471, 0.04705882, 0.05882353,\n",
            "        0.02745098, 0.        , 0.        , 0.        ],\n",
            "       [0.        , 0.        , 0.00392157, 0.04313725, 0.0627451 ,\n",
            "        0.0627451 , 0.02745098, 0.        , 0.        , 0.        ,\n",
            "        0.02745098, 0.05098039, 0.03137255, 0.0627451 , 0.01960784,\n",
            "        0.        , 0.        , 0.        , 0.        , 0.00392157,\n",
            "        0.00392157, 0.0627451 , 0.01568627, 0.        , 0.        ,\n",
            "        0.        , 0.00784314, 0.02745098, 0.05098039, 0.0627451 ,\n",
            "        0.05882353, 0.        , 0.        , 0.00392157, 0.05882353,\n",
            "        0.0627451 , 0.0627451 , 0.04705882, 0.01176471, 0.        ,\n",
            "        0.        , 0.00392157, 0.03137255, 0.01568627, 0.0627451 ,\n",
            "        0.00784314, 0.        , 0.        , 0.        , 0.        ,\n",
            "        0.        , 0.03529412, 0.04313725, 0.        , 0.        ,\n",
            "        0.        , 0.        , 0.        , 0.00392157, 0.05490196,\n",
            "        0.01568627, 0.        , 0.        , 0.        ],\n",
            "       [0.        , 0.        , 0.03529412, 0.05098039, 0.05490196,\n",
            "        0.05882353, 0.05098039, 0.        , 0.        , 0.        ,\n",
            "        0.0627451 , 0.05098039, 0.04705882, 0.04705882, 0.01960784,\n",
            "        0.        , 0.        , 0.01568627, 0.0627451 , 0.        ,\n",
            "        0.        , 0.        , 0.        , 0.        , 0.        ,\n",
            "        0.03137255, 0.0627451 , 0.0627451 , 0.04313725, 0.00392157,\n",
            "        0.        , 0.        , 0.        , 0.00392157, 0.02745098,\n",
            "        0.03137255, 0.0627451 , 0.04705882, 0.        , 0.        ,\n",
            "        0.        , 0.        , 0.        , 0.        , 0.03529412,\n",
            "        0.05098039, 0.        , 0.        , 0.        , 0.        ,\n",
            "        0.04705882, 0.03137255, 0.04705882, 0.03921569, 0.        ,\n",
            "        0.        , 0.        , 0.        , 0.03921569, 0.0627451 ,\n",
            "        0.05098039, 0.01176471, 0.        , 0.        ],\n",
            "       [0.        , 0.        , 0.00784314, 0.01960784, 0.01960784,\n",
            "        0.04313725, 0.05882353, 0.01960784, 0.        , 0.        ,\n",
            "        0.04705882, 0.0627451 , 0.05490196, 0.05098039, 0.0627451 ,\n",
            "        0.01176471, 0.        , 0.00392157, 0.05490196, 0.03529412,\n",
            "        0.        , 0.02352941, 0.04313725, 0.        , 0.        ,\n",
            "        0.        , 0.0627451 , 0.01960784, 0.00392157, 0.05098039,\n",
            "        0.01568627, 0.        , 0.        , 0.        , 0.00392157,\n",
            "        0.        , 0.02745098, 0.04313725, 0.        , 0.        ,\n",
            "        0.        , 0.        , 0.        , 0.00784314, 0.04705882,\n",
            "        0.00784314, 0.        , 0.        , 0.        , 0.        ,\n",
            "        0.        , 0.03921569, 0.03921569, 0.        , 0.        ,\n",
            "        0.        , 0.        , 0.        , 0.        , 0.05882353,\n",
            "        0.01960784, 0.        , 0.        , 0.        ],\n",
            "       [0.        , 0.        , 0.        , 0.0627451 , 0.02352941,\n",
            "        0.        , 0.        , 0.        , 0.        , 0.        ,\n",
            "        0.04313725, 0.0627451 , 0.0627451 , 0.04313725, 0.        ,\n",
            "        0.        , 0.        , 0.01568627, 0.0627451 , 0.04313725,\n",
            "        0.05098039, 0.05490196, 0.        , 0.        , 0.        ,\n",
            "        0.02745098, 0.04705882, 0.00392157, 0.01176471, 0.05098039,\n",
            "        0.        , 0.        , 0.        , 0.01568627, 0.03921569,\n",
            "        0.        , 0.        , 0.0627451 , 0.        , 0.        ,\n",
            "        0.        , 0.00784314, 0.05490196, 0.        , 0.00392157,\n",
            "        0.0627451 , 0.00392157, 0.        , 0.        , 0.        ,\n",
            "        0.03529412, 0.02745098, 0.03529412, 0.05490196, 0.        ,\n",
            "        0.        , 0.        , 0.        , 0.00392157, 0.04313725,\n",
            "        0.05882353, 0.01176471, 0.        , 0.        ],\n",
            "       [0.        , 0.        , 0.01568627, 0.03921569, 0.05882353,\n",
            "        0.0627451 , 0.01568627, 0.        , 0.        , 0.        ,\n",
            "        0.05098039, 0.05490196, 0.03529412, 0.0627451 , 0.01176471,\n",
            "        0.        , 0.        , 0.        , 0.00784314, 0.00392157,\n",
            "        0.01960784, 0.05882353, 0.        , 0.        , 0.        ,\n",
            "        0.        , 0.01176471, 0.01568627, 0.05098039, 0.05490196,\n",
            "        0.00784314, 0.        , 0.        , 0.01960784, 0.0627451 ,\n",
            "        0.0627451 , 0.0627451 , 0.0627451 , 0.03137255, 0.        ,\n",
            "        0.        , 0.01568627, 0.03529412, 0.04705882, 0.05490196,\n",
            "        0.00392157, 0.        , 0.        , 0.        , 0.        ,\n",
            "        0.01960784, 0.05882353, 0.03921569, 0.        , 0.        ,\n",
            "        0.        , 0.        , 0.        , 0.02352941, 0.0627451 ,\n",
            "        0.01568627, 0.        , 0.        , 0.        ],\n",
            "       [0.        , 0.        , 0.        , 0.04313725, 0.01960784,\n",
            "        0.01176471, 0.04313725, 0.        , 0.        , 0.        ,\n",
            "        0.02745098, 0.05490196, 0.00784314, 0.04705882, 0.03529412,\n",
            "        0.        , 0.        , 0.00784314, 0.05882353, 0.02352941,\n",
            "        0.01176471, 0.0627451 , 0.01960784, 0.        , 0.        ,\n",
            "        0.02745098, 0.0627451 , 0.03137255, 0.05098039, 0.0627451 ,\n",
            "        0.05098039, 0.        , 0.        , 0.02745098, 0.0627451 ,\n",
            "        0.0627451 , 0.0627451 , 0.02745098, 0.00392157, 0.        ,\n",
            "        0.        , 0.        , 0.01568627, 0.03921569, 0.05098039,\n",
            "        0.        , 0.        , 0.        , 0.        , 0.        ,\n",
            "        0.        , 0.04705882, 0.02352941, 0.        , 0.        ,\n",
            "        0.        , 0.        , 0.        , 0.        , 0.04705882,\n",
            "        0.        , 0.        , 0.        , 0.        ],\n",
            "       [0.        , 0.        , 0.01960784, 0.05882353, 0.01960784,\n",
            "        0.        , 0.        , 0.        , 0.        , 0.        ,\n",
            "        0.04705882, 0.04313725, 0.05098039, 0.03137255, 0.        ,\n",
            "        0.        , 0.        , 0.        , 0.04313725, 0.03529412,\n",
            "        0.03921569, 0.0627451 , 0.        , 0.        , 0.        ,\n",
            "        0.        , 0.01176471, 0.05882353, 0.0627451 , 0.0627451 ,\n",
            "        0.00392157, 0.        , 0.        , 0.        , 0.        ,\n",
            "        0.        , 0.        , 0.05490196, 0.02352941, 0.        ,\n",
            "        0.        , 0.        , 0.        , 0.        , 0.        ,\n",
            "        0.05098039, 0.03137255, 0.        , 0.        , 0.        ,\n",
            "        0.02352941, 0.01176471, 0.        , 0.05490196, 0.02352941,\n",
            "        0.        , 0.        , 0.        , 0.00784314, 0.05098039,\n",
            "        0.0627451 , 0.05882353, 0.01176471, 0.        ]])>, <tf.Tensor: shape=(8,), dtype=int64, numpy=array([5, 7, 5, 7, 0, 7, 4, 9])>)\n",
            "val batch: (<tf.Tensor: shape=(8, 64), dtype=float64, numpy=\n",
            "array([[0.        , 0.01176471, 0.0627451 , 0.05882353, 0.00392157,\n",
            "        0.        , 0.        , 0.        , 0.        , 0.03921569,\n",
            "        0.0627451 , 0.05882353, 0.02352941, 0.        , 0.        ,\n",
            "        0.        , 0.        , 0.05098039, 0.03921569, 0.05098039,\n",
            "        0.03137255, 0.        , 0.        , 0.        , 0.        ,\n",
            "        0.00392157, 0.01176471, 0.04313725, 0.03921569, 0.        ,\n",
            "        0.        , 0.        , 0.        , 0.        , 0.        ,\n",
            "        0.05882353, 0.03137255, 0.        , 0.        , 0.        ,\n",
            "        0.        , 0.        , 0.01568627, 0.0627451 , 0.03921569,\n",
            "        0.01960784, 0.02745098, 0.        , 0.        , 0.00392157,\n",
            "        0.05098039, 0.0627451 , 0.0627451 , 0.0627451 , 0.0627451 ,\n",
            "        0.        , 0.        , 0.00784314, 0.05490196, 0.05882353,\n",
            "        0.04313725, 0.03137255, 0.01176471, 0.        ],\n",
            "       [0.        , 0.        , 0.05490196, 0.0627451 , 0.0627451 ,\n",
            "        0.0627451 , 0.00784314, 0.        , 0.        , 0.02745098,\n",
            "        0.0627451 , 0.01960784, 0.00392157, 0.        , 0.        ,\n",
            "        0.        , 0.        , 0.05490196, 0.05098039, 0.02745098,\n",
            "        0.01176471, 0.        , 0.        , 0.        , 0.        ,\n",
            "        0.01568627, 0.04705882, 0.05098039, 0.0627451 , 0.03529412,\n",
            "        0.        , 0.        , 0.        , 0.        , 0.        ,\n",
            "        0.        , 0.02352941, 0.05882353, 0.        , 0.        ,\n",
            "        0.        , 0.        , 0.        , 0.        , 0.03529412,\n",
            "        0.05490196, 0.        , 0.        , 0.        , 0.        ,\n",
            "        0.01960784, 0.05490196, 0.0627451 , 0.01176471, 0.        ,\n",
            "        0.        , 0.        , 0.00392157, 0.05882353, 0.04313725,\n",
            "        0.01568627, 0.        , 0.        , 0.        ],\n",
            "       [0.        , 0.00392157, 0.02745098, 0.05882353, 0.0627451 ,\n",
            "        0.03529412, 0.        , 0.        , 0.00392157, 0.05098039,\n",
            "        0.05490196, 0.02745098, 0.05490196, 0.05490196, 0.        ,\n",
            "        0.        , 0.        , 0.02352941, 0.00392157, 0.03137255,\n",
            "        0.0627451 , 0.03137255, 0.        , 0.        , 0.        ,\n",
            "        0.        , 0.01176471, 0.0627451 , 0.03529412, 0.        ,\n",
            "        0.        , 0.        , 0.        , 0.        , 0.        ,\n",
            "        0.04313725, 0.05882353, 0.02352941, 0.00392157, 0.        ,\n",
            "        0.        , 0.        , 0.        , 0.        , 0.02745098,\n",
            "        0.05882353, 0.04313725, 0.        , 0.        , 0.        ,\n",
            "        0.01960784, 0.00392157, 0.        , 0.04313725, 0.0627451 ,\n",
            "        0.00784314, 0.        , 0.        , 0.03921569, 0.0627451 ,\n",
            "        0.0627451 , 0.0627451 , 0.02745098, 0.        ],\n",
            "       [0.        , 0.00392157, 0.03529412, 0.05882353, 0.0627451 ,\n",
            "        0.02352941, 0.        , 0.        , 0.        , 0.05098039,\n",
            "        0.05882353, 0.03921569, 0.0627451 , 0.04313725, 0.        ,\n",
            "        0.        , 0.        , 0.01960784, 0.01176471, 0.01568627,\n",
            "        0.0627451 , 0.02745098, 0.        , 0.        , 0.        ,\n",
            "        0.        , 0.        , 0.03137255, 0.0627451 , 0.02745098,\n",
            "        0.        , 0.        , 0.        , 0.        , 0.        ,\n",
            "        0.00392157, 0.05098039, 0.05882353, 0.01960784, 0.        ,\n",
            "        0.        , 0.        , 0.        , 0.        , 0.00784314,\n",
            "        0.05098039, 0.04313725, 0.        , 0.        , 0.        ,\n",
            "        0.04705882, 0.01960784, 0.01176471, 0.05098039, 0.05490196,\n",
            "        0.        , 0.        , 0.        , 0.03921569, 0.0627451 ,\n",
            "        0.0627451 , 0.05490196, 0.01960784, 0.        ],\n",
            "       [0.        , 0.        , 0.00784314, 0.05490196, 0.05098039,\n",
            "        0.00784314, 0.        , 0.        , 0.        , 0.        ,\n",
            "        0.04313725, 0.0627451 , 0.05882353, 0.05098039, 0.        ,\n",
            "        0.        , 0.        , 0.        , 0.05098039, 0.05098039,\n",
            "        0.00392157, 0.0627451 , 0.01176471, 0.        , 0.        ,\n",
            "        0.        , 0.04705882, 0.05098039, 0.        , 0.05882353,\n",
            "        0.02352941, 0.        , 0.        , 0.00392157, 0.0627451 ,\n",
            "        0.02745098, 0.00392157, 0.0627451 , 0.01568627, 0.        ,\n",
            "        0.        , 0.00392157, 0.0627451 , 0.01960784, 0.03137255,\n",
            "        0.0627451 , 0.00392157, 0.        , 0.        , 0.        ,\n",
            "        0.05882353, 0.05098039, 0.05882353, 0.05098039, 0.        ,\n",
            "        0.        , 0.        , 0.        , 0.01176471, 0.05882353,\n",
            "        0.05882353, 0.00784314, 0.        , 0.        ],\n",
            "       [0.        , 0.        , 0.        , 0.04313725, 0.05098039,\n",
            "        0.        , 0.        , 0.        , 0.        , 0.        ,\n",
            "        0.00392157, 0.0627451 , 0.04705882, 0.        , 0.        ,\n",
            "        0.        , 0.        , 0.        , 0.01568627, 0.0627451 ,\n",
            "        0.02352941, 0.        , 0.        , 0.        , 0.        ,\n",
            "        0.        , 0.02745098, 0.0627451 , 0.0627451 , 0.02745098,\n",
            "        0.        , 0.        , 0.        , 0.        , 0.03137255,\n",
            "        0.0627451 , 0.0627451 , 0.05490196, 0.04313725, 0.        ,\n",
            "        0.        , 0.        , 0.03529412, 0.0627451 , 0.01176471,\n",
            "        0.01960784, 0.0627451 , 0.01568627, 0.        , 0.        ,\n",
            "        0.02352941, 0.05882353, 0.01960784, 0.05490196, 0.0627451 ,\n",
            "        0.00784314, 0.        , 0.        , 0.00392157, 0.04313725,\n",
            "        0.0627451 , 0.05882353, 0.01568627, 0.        ],\n",
            "       [0.        , 0.        , 0.03921569, 0.0627451 , 0.0627451 ,\n",
            "        0.03137255, 0.        , 0.        , 0.        , 0.01960784,\n",
            "        0.0627451 , 0.02352941, 0.02745098, 0.05490196, 0.        ,\n",
            "        0.        , 0.        , 0.01176471, 0.0627451 , 0.01176471,\n",
            "        0.05098039, 0.03529412, 0.        , 0.        , 0.        ,\n",
            "        0.        , 0.05098039, 0.05882353, 0.03529412, 0.        ,\n",
            "        0.        , 0.        , 0.        , 0.        , 0.03921569,\n",
            "        0.0627451 , 0.00392157, 0.        , 0.        , 0.        ,\n",
            "        0.        , 0.        , 0.0627451 , 0.05882353, 0.02352941,\n",
            "        0.        , 0.        , 0.        , 0.        , 0.00392157,\n",
            "        0.05882353, 0.04705882, 0.04313725, 0.        , 0.        ,\n",
            "        0.        , 0.        , 0.        , 0.01960784, 0.0627451 ,\n",
            "        0.03921569, 0.        , 0.        , 0.        ],\n",
            "       [0.        , 0.        , 0.        , 0.        , 0.04705882,\n",
            "        0.03921569, 0.        , 0.        , 0.        , 0.        ,\n",
            "        0.        , 0.04313725, 0.0627451 , 0.01176471, 0.        ,\n",
            "        0.        , 0.        , 0.        , 0.01568627, 0.05882353,\n",
            "        0.01568627, 0.        , 0.        , 0.        , 0.        ,\n",
            "        0.        , 0.04705882, 0.03921569, 0.        , 0.03137255,\n",
            "        0.03921569, 0.        , 0.        , 0.02352941, 0.05882353,\n",
            "        0.00392157, 0.00392157, 0.05882353, 0.03137255, 0.        ,\n",
            "        0.        , 0.02745098, 0.0627451 , 0.03137255, 0.03921569,\n",
            "        0.0627451 , 0.02745098, 0.        , 0.        , 0.01568627,\n",
            "        0.05882353, 0.0627451 , 0.0627451 , 0.05098039, 0.        ,\n",
            "        0.        , 0.        , 0.        , 0.        , 0.        ,\n",
            "        0.04705882, 0.03529412, 0.        , 0.        ]])>, <tf.Tensor: shape=(8,), dtype=int64, numpy=array([2, 5, 3, 3, 0, 6, 8, 4])>)\n",
            "test batch: (<tf.Tensor: shape=(8, 64), dtype=float64, numpy=\n",
            "array([[0.        , 0.        , 0.00392157, 0.04705882, 0.04705882,\n",
            "        0.01176471, 0.        , 0.        , 0.        , 0.        ,\n",
            "        0.03529412, 0.05098039, 0.01960784, 0.05490196, 0.        ,\n",
            "        0.        , 0.        , 0.        , 0.05882353, 0.01176471,\n",
            "        0.        , 0.03921569, 0.00784314, 0.        , 0.        ,\n",
            "        0.01176471, 0.0627451 , 0.01568627, 0.        , 0.03529412,\n",
            "        0.01568627, 0.        , 0.        , 0.01568627, 0.05098039,\n",
            "        0.        , 0.        , 0.03529412, 0.00784314, 0.        ,\n",
            "        0.        , 0.01176471, 0.05098039, 0.        , 0.00392157,\n",
            "        0.05882353, 0.        , 0.        , 0.        , 0.        ,\n",
            "        0.05098039, 0.02352941, 0.03137255, 0.03529412, 0.        ,\n",
            "        0.        , 0.        , 0.        , 0.00784314, 0.05490196,\n",
            "        0.04705882, 0.00784314, 0.        , 0.        ],\n",
            "       [0.        , 0.        , 0.        , 0.04705882, 0.0627451 ,\n",
            "        0.00392157, 0.        , 0.        , 0.        , 0.        ,\n",
            "        0.01568627, 0.0627451 , 0.04313725, 0.        , 0.        ,\n",
            "        0.        , 0.        , 0.        , 0.04705882, 0.05882353,\n",
            "        0.00392157, 0.        , 0.        , 0.        , 0.        ,\n",
            "        0.        , 0.05882353, 0.05098039, 0.03137255, 0.01568627,\n",
            "        0.        , 0.        , 0.        , 0.01176471, 0.0627451 ,\n",
            "        0.05882353, 0.04313725, 0.05882353, 0.02745098, 0.        ,\n",
            "        0.        , 0.00784314, 0.05882353, 0.03921569, 0.        ,\n",
            "        0.01568627, 0.05882353, 0.01176471, 0.        , 0.        ,\n",
            "        0.03137255, 0.04705882, 0.01568627, 0.02352941, 0.0627451 ,\n",
            "        0.01960784, 0.        , 0.        , 0.00392157, 0.04313725,\n",
            "        0.0627451 , 0.0627451 , 0.05098039, 0.        ],\n",
            "       [0.        , 0.        , 0.04313725, 0.0627451 , 0.05882353,\n",
            "        0.01176471, 0.        , 0.        , 0.        , 0.01960784,\n",
            "        0.0627451 , 0.04705882, 0.04313725, 0.05098039, 0.        ,\n",
            "        0.        , 0.        , 0.01176471, 0.05098039, 0.00392157,\n",
            "        0.01960784, 0.05882353, 0.        , 0.        , 0.        ,\n",
            "        0.        , 0.        , 0.        , 0.04705882, 0.04313725,\n",
            "        0.        , 0.        , 0.        , 0.        , 0.        ,\n",
            "        0.00392157, 0.0627451 , 0.02745098, 0.        , 0.        ,\n",
            "        0.        , 0.        , 0.        , 0.03921569, 0.05882353,\n",
            "        0.        , 0.        , 0.        , 0.        , 0.        ,\n",
            "        0.04705882, 0.0627451 , 0.0627451 , 0.04313725, 0.00392157,\n",
            "        0.        , 0.        , 0.        , 0.05098039, 0.05098039,\n",
            "        0.03137255, 0.05098039, 0.0627451 , 0.03137255],\n",
            "       [0.        , 0.        , 0.03529412, 0.0627451 , 0.0627451 ,\n",
            "        0.02745098, 0.        , 0.        , 0.        , 0.02745098,\n",
            "        0.0627451 , 0.04705882, 0.02745098, 0.04313725, 0.00784314,\n",
            "        0.        , 0.        , 0.05098039, 0.05098039, 0.00392157,\n",
            "        0.        , 0.        , 0.        , 0.        , 0.        ,\n",
            "        0.03921569, 0.0627451 , 0.03921569, 0.02745098, 0.        ,\n",
            "        0.        , 0.        , 0.        , 0.        , 0.03137255,\n",
            "        0.04705882, 0.0627451 , 0.03921569, 0.        , 0.        ,\n",
            "        0.        , 0.        , 0.        , 0.        , 0.01960784,\n",
            "        0.0627451 , 0.01176471, 0.        , 0.        , 0.        ,\n",
            "        0.00392157, 0.        , 0.04313725, 0.0627451 , 0.00392157,\n",
            "        0.        , 0.        , 0.        , 0.02745098, 0.0627451 ,\n",
            "        0.0627451 , 0.02352941, 0.        , 0.        ],\n",
            "       [0.        , 0.        , 0.03137255, 0.05882353, 0.03529412,\n",
            "        0.        , 0.        , 0.        , 0.        , 0.00392157,\n",
            "        0.0627451 , 0.03921569, 0.0627451 , 0.03529412, 0.        ,\n",
            "        0.        , 0.        , 0.00784314, 0.02352941, 0.00784314,\n",
            "        0.0627451 , 0.0627451 , 0.00392157, 0.        , 0.        ,\n",
            "        0.01176471, 0.03529412, 0.03529412, 0.0627451 , 0.05490196,\n",
            "        0.        , 0.        , 0.        , 0.        , 0.02745098,\n",
            "        0.01960784, 0.04705882, 0.01960784, 0.        , 0.        ,\n",
            "        0.        , 0.        , 0.        , 0.        , 0.02745098,\n",
            "        0.04705882, 0.00392157, 0.        , 0.        , 0.        ,\n",
            "        0.        , 0.        , 0.00784314, 0.0627451 , 0.01568627,\n",
            "        0.        , 0.        , 0.        , 0.03529412, 0.05098039,\n",
            "        0.04705882, 0.03921569, 0.00392157, 0.        ],\n",
            "       [0.        , 0.01568627, 0.05490196, 0.0627451 , 0.0627451 ,\n",
            "        0.05882353, 0.00784314, 0.        , 0.        , 0.04705882,\n",
            "        0.04313725, 0.00784314, 0.01568627, 0.0627451 , 0.01960784,\n",
            "        0.        , 0.        , 0.00784314, 0.        , 0.00392157,\n",
            "        0.04313725, 0.04705882, 0.        , 0.        , 0.        ,\n",
            "        0.        , 0.        , 0.05882353, 0.0627451 , 0.01176471,\n",
            "        0.        , 0.        , 0.        , 0.        , 0.        ,\n",
            "        0.01568627, 0.05882353, 0.03921569, 0.        , 0.        ,\n",
            "        0.        , 0.        , 0.        , 0.        , 0.00392157,\n",
            "        0.05490196, 0.03921569, 0.        , 0.        , 0.00392157,\n",
            "        0.02745098, 0.        , 0.01176471, 0.05490196, 0.03137255,\n",
            "        0.        , 0.        , 0.01568627, 0.05882353, 0.0627451 ,\n",
            "        0.0627451 , 0.04313725, 0.        , 0.        ],\n",
            "       [0.        , 0.00392157, 0.04705882, 0.04705882, 0.04705882,\n",
            "        0.05882353, 0.02352941, 0.        , 0.        , 0.00392157,\n",
            "        0.05490196, 0.01960784, 0.01960784, 0.01568627, 0.00392157,\n",
            "        0.        , 0.        , 0.        , 0.04705882, 0.        ,\n",
            "        0.        , 0.        , 0.        , 0.        , 0.        ,\n",
            "        0.03137255, 0.0627451 , 0.0627451 , 0.05882353, 0.03137255,\n",
            "        0.        , 0.        , 0.        , 0.00392157, 0.01568627,\n",
            "        0.01568627, 0.01960784, 0.04705882, 0.02745098, 0.        ,\n",
            "        0.        , 0.        , 0.        , 0.        , 0.        ,\n",
            "        0.04313725, 0.01568627, 0.        , 0.        , 0.00784314,\n",
            "        0.02745098, 0.00784314, 0.03921569, 0.04705882, 0.        ,\n",
            "        0.        , 0.        , 0.00784314, 0.0627451 , 0.05882353,\n",
            "        0.03137255, 0.00392157, 0.        , 0.        ],\n",
            "       [0.        , 0.        , 0.        , 0.02352941, 0.0627451 ,\n",
            "        0.02352941, 0.        , 0.        , 0.        , 0.        ,\n",
            "        0.01176471, 0.0627451 , 0.03529412, 0.        , 0.        ,\n",
            "        0.        , 0.        , 0.00392157, 0.05098039, 0.05098039,\n",
            "        0.00392157, 0.00784314, 0.00392157, 0.        , 0.        ,\n",
            "        0.02745098, 0.0627451 , 0.01960784, 0.00392157, 0.05490196,\n",
            "        0.03921569, 0.        , 0.        , 0.04705882, 0.0627451 ,\n",
            "        0.03137255, 0.04705882, 0.0627451 , 0.00784314, 0.        ,\n",
            "        0.        , 0.00784314, 0.04705882, 0.05882353, 0.0627451 ,\n",
            "        0.04313725, 0.        , 0.        , 0.        , 0.        ,\n",
            "        0.        , 0.03137255, 0.0627451 , 0.01568627, 0.        ,\n",
            "        0.        , 0.        , 0.        , 0.        , 0.03137255,\n",
            "        0.05882353, 0.        , 0.        , 0.        ]])>, <tf.Tensor: shape=(8,), dtype=int64, numpy=array([0, 6, 2, 5, 9, 3, 5, 4])>)\n"
          ]
        }
      ]
    },
    {
      "cell_type": "markdown",
      "metadata": {
        "id": "6fUS1ootddPP"
      },
      "source": [
        "Congratulations, you know two different ways of forming datasets that are fit for training deep learning models with tensorflow! This skill will come in very handy as we will try to focus more on building models from now on, and put less focus on preprocessing.\n",
        "Until then, happy learning!"
      ]
    },
    {
      "cell_type": "code",
      "metadata": {
        "id": "aEgU351Ss_HP"
      },
      "source": [
        ""
      ],
      "execution_count": null,
      "outputs": []
    }
  ]
}